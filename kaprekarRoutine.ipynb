{
 "cells": [
  {
   "cell_type": "markdown",
   "metadata": {},
   "source": [
    "# Kaprekar's Constant\n",
    "\n",
    "The number 6147 is a special number and is known as Kaprekar's constant. If the digits are sorted in increasing order\n",
    "and subtracted from the digits sorted in decreasing order, you will get 6147 (7641-1467). This is true for any 4 digit number, including ones with leading zeros. If this process is repeated, eventually the difference between the two numbers will result in Kaprekar's constant. This is known as Kaprekar's routine. If the 4 digits are the same, i.e. 2222, then the difference will return a 0. \n",
    "\n",
    "This program will execute Kaprekar's routine on a user input 4 digit number and return the number of steps thisn number takes before reaching either 6147 or 0. \n",
    "\n",
    "I wrote this program originally in a python script (also in the same repo) but have converted into a jupyter notebook to create a more tutorial-style."
   ]
  },
  {
   "cell_type": "markdown",
   "metadata": {},
   "source": [
    "## Creating Methods to Convert Input -> List"
   ]
  },
  {
   "cell_type": "markdown",
   "metadata": {},
   "source": [
    "Because leading zeros are acceptable inputs to create a 4 digit number, and these inputs will be sorted, I decided to store this input as a string that I would convert into a list to preserve leading zeros."
   ]
  },
  {
   "cell_type": "code",
   "execution_count": 5,
   "metadata": {},
   "outputs": [],
   "source": [
    "def _convert_input_to_ordered_list(str_input, ascending=True):\n",
    "    \"\"\"\n",
    "    Takes the user input string and converts it into a list of ordered string numbers in ascending order unless set to \n",
    "    False. This is stored as a string in order to retain any trailing or leading zeros.\n",
    "    :param str_input: The user input number, in the form of a string\n",
    "    :return: Ordered list of numbers stored as strings\n",
    "    \"\"\"\n",
    "    # Converting integer into a list of integers\n",
    "    digits_list = [digit for digit in str_input]\n",
    "\n",
    "    # Sorting the list in a particular order\n",
    "    if ascending:\n",
    "        ordered_list = sorted([digit for digit in digits_list])\n",
    "    else:\n",
    "        ordered_list = sorted([digit for digit in digits_list], reverse=True)\n",
    "\n",
    "    return ordered_list\n",
    "\n",
    "\n",
    "def _merge_list_to_value(list):\n",
    "    \"\"\"\n",
    "    Takes a list of digits (strings) and converts it into a single joined string value\n",
    "    :param list: List of integers\n",
    "    :return: Single value digit in the form of a string\n",
    "    \"\"\"\n",
    "    merged_value = (''.join(list))\n",
    "    return merged_value"
   ]
  },
  {
   "cell_type": "markdown",
   "metadata": {},
   "source": [
    "## Calculating the Difference between Re-Ordered Digits"
   ]
  },
  {
   "cell_type": "markdown",
   "metadata": {},
   "source": [
    "I created separate methods to help order the digits and calculate the difference. I generally prefer my functions to do just one and one thing only, so I'll create helper methods to carry out different tasks rather than one method doing everything."
   ]
  },
  {
   "cell_type": "code",
   "execution_count": 2,
   "metadata": {},
   "outputs": [],
   "source": [
    "def calculate_difference(num):\n",
    "    \"\"\"\n",
    "    Subtracts the number with increasing digits from the number with decreasing digits. T\n",
    "    :param num: Input number\n",
    "    :return: The difference as an integer\n",
    "    \"\"\"\n",
    "    int_difference = get_decreasing_int(num) - get_increasing_int(num)\n",
    "    return int_difference\n",
    "\n",
    "\n",
    "def get_decreasing_int(num):\n",
    "    \"\"\"\n",
    "    Converts the input into a decreasing ordered integer\n",
    "    :param num: Input number as string\n",
    "    :return: Re-ordered integer with decreasing order\n",
    "    \"\"\"\n",
    "    decreasing_list = _convert_input_to_ordered_list(num, ascending=False)\n",
    "    decreasing_int = int(_merge_list_to_value(decreasing_list))\n",
    "    return decreasing_int\n",
    "\n",
    "\n",
    "def get_increasing_int(num):\n",
    "    \"\"\"\n",
    "    Converts the input into am increasing ordered integer\n",
    "    :param num: Input number as string\n",
    "    :return: Re-ordered integer with increasing order\n",
    "    \"\"\"\n",
    "    increasing_list = _convert_input_to_ordered_list(num)\n",
    "    increasing_int = int(_merge_list_to_value(increasing_list))\n",
    "    return increasing_int\n"
   ]
  },
  {
   "cell_type": "markdown",
   "metadata": {},
   "source": [
    "## Kaprekar Counter"
   ]
  },
  {
   "cell_type": "markdown",
   "metadata": {},
   "source": [
    "Finally, the actual counter!"
   ]
  },
  {
   "cell_type": "code",
   "execution_count": 3,
   "metadata": {},
   "outputs": [],
   "source": [
    "def kaprekarCount(num):\n",
    "    \"\"\"\n",
    "    Returns the number of steps needed for the input number to reach the Kaprekar constant of 6174 or zero\n",
    "    :param num: Input number\n",
    "    :return: Number of steps\n",
    "    \"\"\"\n",
    "    count = 0\n",
    "    kaprekar_constant = 6174\n",
    "    while True:\n",
    "        difference = calculate_difference(num)\n",
    "        count += 1\n",
    "        if difference == 0 or difference == kaprekar_constant:\n",
    "            break\n",
    "\n",
    "        # Casting the difference into a string in order to reuse this value as a new input for the Kaprekar routine\n",
    "        num = str(difference)\n",
    "    return count"
   ]
  },
  {
   "cell_type": "markdown",
   "metadata": {},
   "source": [
    "Now we are ready to create a workflow to run the routine:"
   ]
  },
  {
   "cell_type": "code",
   "execution_count": 4,
   "metadata": {},
   "outputs": [
    {
     "name": "stdout",
     "output_type": "stream",
     "text": [
      "Please enter a 4 digit integer: 0387\n",
      "The number of steps needed to reach the Kaprekar constant or 0:  2\n",
      "Please enter a 4 digit integer: 28282\n",
      "You have entered more than 4 digits. Try again.\n",
      "Please enter a 4 digit integer: 009\n",
      "The number of steps needed to reach the Kaprekar constant or 0:  4\n",
      "Please enter a 4 digit integer: 282j81\n",
      "This is not an integer. Try again.\n",
      "Please enter a 4 digit integer: \n"
     ]
    }
   ],
   "source": [
    "# Run code\n",
    "while True:\n",
    "    user_input = input('Please enter a 4 digit integer. Press enter to exit the routine: ')\n",
    "\n",
    "    if user_input == '':\n",
    "        break\n",
    "\n",
    "    # Ensure an integer was entered\n",
    "    try:\n",
    "        int(user_input)\n",
    "    except ValueError:\n",
    "        print('This is not an integer. Try again.')\n",
    "        continue\n",
    "\n",
    "    input_length = len(user_input)\n",
    "    if input_length > 4:\n",
    "        print('You have entered more than 4 digits. Try again.')\n",
    "        continue\n",
    "    elif input_length < 4:\n",
    "        # Pad the number with leading zeros to make 4 digits\n",
    "        user_input = '{:0>4}'.format(user_input)\n",
    "\n",
    "    # Start the Kaprekar Routine\n",
    "    count = kaprekarCount(user_input)\n",
    "    print('The number of steps needed to reach the Kaprekar constant or 0: ', count)\n"
   ]
  }
 ],
 "metadata": {
  "kernelspec": {
   "display_name": "Python 3",
   "language": "python",
   "name": "python3"
  },
  "language_info": {
   "codemirror_mode": {
    "name": "ipython",
    "version": 3
   },
   "file_extension": ".py",
   "mimetype": "text/x-python",
   "name": "python",
   "nbconvert_exporter": "python",
   "pygments_lexer": "ipython3",
   "version": "3.7.3"
  }
 },
 "nbformat": 4,
 "nbformat_minor": 2
}
